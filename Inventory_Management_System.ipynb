{
  "nbformat": 4,
  "nbformat_minor": 0,
  "metadata": {
    "colab": {
      "name": "Inventory_Management_System.ipynb",
      "provenance": [],
      "collapsed_sections": []
    },
    "kernelspec": {
      "name": "python3",
      "display_name": "Python 3.9.6 64-bit"
    },
    "language_info": {
      "name": "python",
      "version": "3.9.6",
      "mimetype": "text/x-python",
      "codemirror_mode": {
        "name": "ipython",
        "version": 3
      },
      "pygments_lexer": "ipython3",
      "nbconvert_exporter": "python",
      "file_extension": ".py"
    },
    "interpreter": {
      "hash": "b4cec20f98c31271803444ef759d823fc27e0beb686757d396c43a8df79ce2a7"
    }
  },
  "cells": [
    {
      "cell_type": "markdown",
      "metadata": {
        "id": "DDZUxqcdSuQ9"
      },
      "source": [
        "**Database for Inventory Management System**"
      ]
    },
    {
      "cell_type": "code",
      "metadata": {
        "id": "vSO1hafs4HVq"
      },
      "source": [
        "records = {\n",
        "    1001 : {'name':'Maggi', 'price':10, 'quantity':179},\n",
        "    1002 : {'name':'Chocolate', 'price':2, 'quantity':62},\n",
        "    1003 : {'name':'Milk', 'price':60, 'quantity':85},\n",
        "    1004 : {'name':'Pasta', 'price':20, 'quantity':84},\n",
        "    1005 : {'name':'Cake', 'price':100, 'quantity':154},\n",
        "    1006 : {'name':'Drinks', 'price':30, 'quantity':135},\n",
        "    1007 : {'name':'Bournvita', 'price':40, 'quantity':163},\n",
        "    1008 : {'name':'Pastry', 'price':50, 'quantity':128},\n",
        "    1009 : {'name':'Balloon', 'price':5, 'quantity':10},\n",
        "    1010 : {'name':'Chips', 'price':5, 'quantity':50},\n",
        "}"
      ],
      "execution_count": 22,
      "outputs": []
    },
    {
      "cell_type": "markdown",
      "metadata": {
        "id": "QJSqhr6G8sUG"
      },
      "source": [
        "**Converting Records into JSON format**"
      ]
    },
    {
      "cell_type": "code",
      "metadata": {
        "colab": {
          "base_uri": "https://localhost:8080/",
          "height": 122
        },
        "id": "HxU4vBQp8LLU",
        "outputId": "061213d5-ecd6-4c57-8def-d93c9e4ca3ea"
      },
      "source": [
        "import json\n",
        "js = json.dumps(records)\n",
        "js"
      ],
      "execution_count": 23,
      "outputs": [
        {
          "output_type": "execute_result",
          "data": {
            "application/vnd.google.colaboratory.intrinsic+json": {
              "type": "string"
            },
            "text/plain": [
              "'{\"1001\": {\"name\": \"Maggi\", \"price\": 10, \"quantity\": 179}, \"1002\": {\"name\": \"Chocolate\", \"price\": 2, \"quantity\": 62}, \"1003\": {\"name\": \"Milk\", \"price\": 60, \"quantity\": 85}, \"1004\": {\"name\": \"Pasta\", \"price\": 20, \"quantity\": 84}, \"1005\": {\"name\": \"Cake\", \"price\": 100, \"quantity\": 154}, \"1006\": {\"name\": \"Drinks\", \"price\": 30, \"quantity\": 135}, \"1007\": {\"name\": \"Bournvita\", \"price\": 40, \"quantity\": 163}, \"1008\": {\"name\": \"Pastry\", \"price\": 50, \"quantity\": 128}, \"1009\": {\"name\": \"Balloon\", \"price\": 5, \"quantity\": 10}, \"1010\": {\"name\": \"Chips\", \"price\": 5, \"quantity\": 50}}'"
            ]
          },
          "metadata": {},
          "execution_count": 23
        }
      ]
    },
    {
      "cell_type": "markdown",
      "metadata": {
        "id": "94GGnlkP9qN7"
      },
      "source": [
        "**Storing Records in json file**"
      ]
    },
    {
      "cell_type": "code",
      "metadata": {
        "id": "imJg42Qu9HMb"
      },
      "source": [
        "fd = open(\"records.json\",'w')\n",
        "fd.write(js)\n",
        "fd.close()"
      ],
      "execution_count": 24,
      "outputs": []
    },
    {
      "cell_type": "markdown",
      "metadata": {
        "id": "_FwkwS819xBs"
      },
      "source": [
        "**Reading inventory**"
      ]
    },
    {
      "cell_type": "code",
      "metadata": {
        "id": "J0-IkhUF95X6"
      },
      "source": [
        "fd = open(\"records.json\",'r')\n",
        "contents = fd.read()\n",
        "fd.close()"
      ],
      "execution_count": 25,
      "outputs": []
    },
    {
      "cell_type": "code",
      "metadata": {
        "colab": {
          "base_uri": "https://localhost:8080/"
        },
        "id": "W3kQK11E-SGf",
        "outputId": "fb006568-434b-4b11-dcc2-5cf513fa831b"
      },
      "source": [
        "records = json.loads(contents)\n",
        "records"
      ],
      "execution_count": 26,
      "outputs": [
        {
          "output_type": "execute_result",
          "data": {
            "text/plain": [
              "{'1001': {'name': 'Maggi', 'price': 10, 'quantity': 179},\n",
              " '1002': {'name': 'Chocolate', 'price': 2, 'quantity': 62},\n",
              " '1003': {'name': 'Milk', 'price': 60, 'quantity': 85},\n",
              " '1004': {'name': 'Pasta', 'price': 20, 'quantity': 84},\n",
              " '1005': {'name': 'Cake', 'price': 100, 'quantity': 154},\n",
              " '1006': {'name': 'Drinks', 'price': 30, 'quantity': 135},\n",
              " '1007': {'name': 'Bournvita', 'price': 40, 'quantity': 163},\n",
              " '1008': {'name': 'Pastry', 'price': 50, 'quantity': 128},\n",
              " '1009': {'name': 'Balloon', 'price': 5, 'quantity': 10},\n",
              " '1010': {'name': 'Chips', 'price': 5, 'quantity': 50}}"
            ]
          },
          "metadata": {},
          "execution_count": 26
        }
      ]
    },
    {
      "cell_type": "markdown",
      "metadata": {
        "id": "pr54mFm1QBpa"
      },
      "source": [
        "**Function for adding new products**"
      ]
    },
    {
      "cell_type": "code",
      "metadata": {
        "id": "uMtXf02jQLs-"
      },
      "source": [
        "def new_product(id, name, quantity):\n",
        "  id=int(id)+1\n",
        "  id=str(id)\n",
        "  records[id]={}\n",
        "  records[id]['name']=product\n",
        "  records[id]['price']=int(input(f'Enter price for {product}: '))\n",
        "  records[id]['quantity']=quant"
      ],
      "execution_count": 27,
      "outputs": []
    },
    {
      "cell_type": "markdown",
      "metadata": {
        "id": "0RlcVmFDR9fv"
      },
      "source": [
        "**Purchase from customers**"
      ]
    },
    {
      "cell_type": "code",
      "metadata": {
        "id": "0hI5t-fWBFkY",
        "colab": {
          "base_uri": "https://localhost:8080/"
        },
        "outputId": "8005f782-ae76-4651-b78c-31d856e83e7b"
      },
      "source": [
        "sale = []\n",
        "flags = True\n",
        "while flags:\n",
        "  product = input('Enter product to purchase: ')\n",
        "  product = product.capitalize()\n",
        "  quant = int(input(f'Enter quantity for {product}: '))\n",
        "  flag = True\n",
        "  for i in records.keys():\n",
        "    if records[i]['name']==product:\n",
        "      if records[i]['quantity']>=quant:\n",
        "        print(f'{product} is successfully purchased')\n",
        "        price= records[i]['price']*quant\n",
        "        sale.append([product, quant, price])\n",
        "        flag = True\n",
        "        break\n",
        "      else:\n",
        "        print(f\"We don't have enough quantity of {product}.\\nDo you want to purchase {records[i]['quantity']} items of {product}\")\n",
        "        a = input('Enter Y/N: ')\n",
        "        if a.lower()=='y':\n",
        "          print(f'{product} is successfully purchased')\n",
        "          price = records[i]['price']*records[i]['quantity']\n",
        "          quant = records[i]['quantity']\n",
        "          sale.append([product, quant, price])\n",
        "          flag = True\n",
        "          break\n",
        "        else:\n",
        "          flag = True\n",
        "          break\n",
        "    else:\n",
        "      id=i\n",
        "      flag=False\n",
        "  if (flag==False):\n",
        "    new_product(id, product, quant)\n",
        "    for i in records.keys():\n",
        "      if records[i]['name']==product:\n",
        "        if records[i]['quantity']>=quant:\n",
        "          print(f'{product} is successfully purchased')\n",
        "          price = records[i]['price']*quant\n",
        "          sale.append([product, quant, price])\n",
        "          flag = True\n",
        "          break\n",
        "        else:\n",
        "          records[i]['quantity']+=quant\n",
        "          print(f'{product} is successfully purchased')\n",
        "          price= records[i]['price']*quant\n",
        "          sale.append([product, quant, price])\n",
        "          flag = True\n",
        "          break\n",
        "  \n",
        "  a = input('Do you want to purchase more prodcuts enter Y/N: ')\n",
        "  a = a.upper()\n",
        "  if a=='N':\n",
        "    flags=False\n",
        "  elif a=='Y':\n",
        "    flags=True\n",
        "  else:\n",
        "    print('Wrong input!!!')\n",
        "    flags=Falsei\n",
        "print(sale)"
      ],
      "execution_count": 29,
      "outputs": [
        {
          "output_type": "stream",
          "name": "stdout",
          "text": [
            "Enter product to purchase: Maggi\n",
            "Enter quantity for Maggi: 3\n",
            "Maggi is successfully purchased\n",
            "Do you want to purchase more prodcuts enter Y/N: y\n",
            "Enter product to purchase: chips\n",
            "Enter quantity for Chips: 2\n",
            "Chips is successfully purchased\n",
            "Do you want to purchase more prodcuts enter Y/N: y\n",
            "Enter product to purchase: balloon\n",
            "Enter quantity for Balloon: 15\n",
            "We don't have enough quantity of Balloon.\n",
            "Do you want to purchase 10 items of Balloon\n",
            "Enter Y/N: y\n",
            "Balloon is successfully purchased\n",
            "Do you want to purchase more prodcuts enter Y/N: y\n",
            "Enter product to purchase: ice cream\n",
            "Enter quantity for Ice cream: 3\n",
            "Enter price for Ice cream: 30\n",
            "Ice cream is successfully purchased\n",
            "Do you want to purchase more prodcuts enter Y/N: n\n",
            "[['Maggi', 3, 30], ['Chips', 2, 10], ['Balloon', 10, 50], ['Ice cream', 3, 90]]\n"
          ]
        }
      ]
    },
    {
      "cell_type": "markdown",
      "metadata": {
        "id": "KN5PLhKtUr7A"
      },
      "source": [
        "**Bill for Customer**"
      ]
    },
    {
      "cell_type": "code",
      "metadata": {
        "colab": {
          "base_uri": "https://localhost:8080/"
        },
        "id": "Oqf50sD1UvTQ",
        "outputId": "a705e330-8d39-4bfc-9380-6e796c9683a7"
      },
      "source": [
        "print('*'*40)\n",
        "print('Inventory Management System')\n",
        "print('*'*40)\n",
        "print('Sr No. | Product | Quantity | Price')\n",
        "print('*'*40)\n",
        "total=0\n",
        "for i in range(len(sale)):\n",
        "  print(f'({i+1}, {sale[i][0]}, {sale[i][1]}, ₹{sale[i][2]})') \n",
        "  total+=sale[i][2]\n",
        "print('*'*40)\n",
        "print(f'Grand Total: ₹{total}')\n",
        "print('*'*40)"
      ],
      "execution_count": 32,
      "outputs": [
        {
          "output_type": "stream",
          "name": "stdout",
          "text": [
            "****************************************\n",
            "Inventory Management System\n",
            "****************************************\n",
            "Sr No. | Product | Quantity | Price\n",
            "****************************************\n",
            "(1, Maggi, 3, ₹30)\n",
            "(2, Chips, 2, ₹10)\n",
            "(3, Balloon, 10, ₹50)\n",
            "(4, Ice cream, 3, ₹90)\n",
            "****************************************\n",
            "Grand Total: ₹180\n",
            "****************************************\n"
          ]
        }
      ]
    },
    {
      "cell_type": "markdown",
      "metadata": {
        "id": "zKeKoU94X_KB"
      },
      "source": [
        "**Updating Records Database**"
      ]
    },
    {
      "cell_type": "code",
      "metadata": {
        "colab": {
          "base_uri": "https://localhost:8080/"
        },
        "id": "0mwRZWADYCcw",
        "outputId": "ab01f3de-bff6-45f5-c4a2-61beaca9373c"
      },
      "source": [
        "for i in range(len(sale)):\n",
        "  for j in records.keys():\n",
        "    if records[j]['name']==sale[i][0]:\n",
        "      records[j]['quantity']-=sale[i][1]\n",
        "print(records)"
      ],
      "execution_count": 33,
      "outputs": [
        {
          "output_type": "stream",
          "name": "stdout",
          "text": [
            "{'1001': {'name': 'Maggi', 'price': 10, 'quantity': 176}, '1002': {'name': 'Chocolate', 'price': 2, 'quantity': 62}, '1003': {'name': 'Milk', 'price': 60, 'quantity': 85}, '1004': {'name': 'Pasta', 'price': 20, 'quantity': 84}, '1005': {'name': 'Cake', 'price': 100, 'quantity': 154}, '1006': {'name': 'Drinks', 'price': 30, 'quantity': 135}, '1007': {'name': 'Bournvita', 'price': 40, 'quantity': 163}, '1008': {'name': 'Pastry', 'price': 50, 'quantity': 128}, '1009': {'name': 'Balloon', 'price': 5, 'quantity': 0}, '1010': {'name': 'Chips', 'price': 5, 'quantity': 48}, '1011': {'name': 'Ice cream', 'price': 30, 'quantity': 0}}\n"
          ]
        }
      ]
    },
    {
      "cell_type": "markdown",
      "metadata": {
        "id": "sVhhfjB6ZWpU"
      },
      "source": [
        "**Updating Records Database in JSON file**"
      ]
    },
    {
      "cell_type": "code",
      "metadata": {
        "id": "98XaVGmDZarg",
        "colab": {
          "base_uri": "https://localhost:8080/"
        },
        "outputId": "c3f3b250-e6d8-4af0-90ef-58cbf8d34ea7"
      },
      "source": [
        "import json\n",
        "js = json.dumps(records)\n",
        "fd = open(\"records.json\",'w')\n",
        "fd.write(js)\n",
        "fd.close()\n",
        "print(js)"
      ],
      "execution_count": 34,
      "outputs": [
        {
          "output_type": "stream",
          "name": "stdout",
          "text": [
            "{\"1001\": {\"name\": \"Maggi\", \"price\": 10, \"quantity\": 176}, \"1002\": {\"name\": \"Chocolate\", \"price\": 2, \"quantity\": 62}, \"1003\": {\"name\": \"Milk\", \"price\": 60, \"quantity\": 85}, \"1004\": {\"name\": \"Pasta\", \"price\": 20, \"quantity\": 84}, \"1005\": {\"name\": \"Cake\", \"price\": 100, \"quantity\": 154}, \"1006\": {\"name\": \"Drinks\", \"price\": 30, \"quantity\": 135}, \"1007\": {\"name\": \"Bournvita\", \"price\": 40, \"quantity\": 163}, \"1008\": {\"name\": \"Pastry\", \"price\": 50, \"quantity\": 128}, \"1009\": {\"name\": \"Balloon\", \"price\": 5, \"quantity\": 0}, \"1010\": {\"name\": \"Chips\", \"price\": 5, \"quantity\": 48}, \"1011\": {\"name\": \"Ice cream\", \"price\": 30, \"quantity\": 0}}\n"
          ]
        }
      ]
    },
    {
      "cell_type": "markdown",
      "metadata": {
        "id": "K6MRR5VTGqTk"
      },
      "source": [
        "**Updating Sales Database**"
      ]
    },
    {
      "cell_type": "code",
      "metadata": {
        "id": "0t3nndCNGuLO"
      },
      "source": [
        "sales = {}\n",
        "for i in range(len(sale)):\n",
        "  for j in records.keys():\n",
        "    if records[j]['name']==sale[i][0]:\n",
        "      sales[j]={}\n",
        "      sales[j]['name']=sale[i][0]\n",
        "      sales[j]['price']=sale[i][2]\n",
        "      sales[j]['quantity']=sale[i][1]"
      ],
      "execution_count": 35,
      "outputs": []
    },
    {
      "cell_type": "code",
      "metadata": {
        "colab": {
          "base_uri": "https://localhost:8080/"
        },
        "id": "G0q_tmMRHvYu",
        "outputId": "2ac2e92d-e953-47a3-99c6-ba397cef9996"
      },
      "source": [
        "import json\n",
        "js1 = json.dumps(sales)\n",
        "fd = open(\"sales.json\",'w')\n",
        "fd.write(js1)\n",
        "fd.close()\n",
        "print(js1)"
      ],
      "execution_count": 36,
      "outputs": [
        {
          "output_type": "stream",
          "name": "stdout",
          "text": [
            "{\"1001\": {\"name\": \"Maggi\", \"price\": 30, \"quantity\": 3}, \"1010\": {\"name\": \"Chips\", \"price\": 10, \"quantity\": 2}, \"1009\": {\"name\": \"Balloon\", \"price\": 50, \"quantity\": 10}, \"1011\": {\"name\": \"Ice cream\", \"price\": 90, \"quantity\": 3}}\n"
          ]
        }
      ]
    }
  ]
}