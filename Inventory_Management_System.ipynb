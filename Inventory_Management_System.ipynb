{
  "nbformat": 4,
  "nbformat_minor": 2,
  "metadata": {
    "colab": {
      "name": "Inventory_Management_System.ipynb",
      "provenance": [],
      "collapsed_sections": []
    },
    "kernelspec": {
      "name": "python3",
      "display_name": "Python 3.9.6 64-bit"
    },
    "language_info": {
      "name": "python",
      "version": "3.9.6",
      "mimetype": "text/x-python",
      "codemirror_mode": {
        "name": "ipython",
        "version": 3
      },
      "pygments_lexer": "ipython3",
      "nbconvert_exporter": "python",
      "file_extension": ".py"
    },
    "interpreter": {
      "hash": "b4cec20f98c31271803444ef759d823fc27e0beb686757d396c43a8df79ce2a7"
    }
  },
  "cells": [
    {
      "cell_type": "markdown",
      "source": [
        "**Database for Inventory Management System**"
      ],
      "metadata": {
        "id": "DDZUxqcdSuQ9"
      }
    },
    {
      "cell_type": "code",
      "execution_count": 1,
      "source": [
        "records = {\r\n",
        "    1001 : {'name':'Maggi', 'price':10, 'quantity':179},\r\n",
        "    1002 : {'name':'Chocolate', 'price':2, 'quantity':62},\r\n",
        "    1003 : {'name':'Milk', 'price':60, 'quantity':85},\r\n",
        "    1004 : {'name':'Pasta', 'price':20, 'quantity':84},\r\n",
        "    1005 : {'name':'Cake', 'price':100, 'quantity':154},\r\n",
        "    1006 : {'name':'Drinks', 'price':30, 'quantity':135},\r\n",
        "    1007 : {'name':'Bournvita', 'price':40, 'quantity':163},\r\n",
        "    1008 : {'name':'Pastry', 'price':50, 'quantity':128},\r\n",
        "    1009 : {'name':'Balloon', 'price':5, 'quantity':30},\r\n",
        "    1010 : {'name':'Chips', 'price':5, 'quantity':50},\r\n",
        "}"
      ],
      "outputs": [],
      "metadata": {
        "id": "vSO1hafs4HVq"
      }
    },
    {
      "cell_type": "markdown",
      "source": [
        "**Converting Records into JSON format**"
      ],
      "metadata": {
        "id": "QJSqhr6G8sUG"
      }
    },
    {
      "cell_type": "code",
      "execution_count": 2,
      "source": [
        "import json\r\n",
        "js = json.dumps(records)\r\n",
        "js"
      ],
      "outputs": [
        {
          "output_type": "execute_result",
          "data": {
            "text/plain": [
              "'{\"1001\": {\"name\": \"Maggi\", \"price\": 10, \"quantity\": 179}, \"1002\": {\"name\": \"Chocolate\", \"price\": 2, \"quantity\": 62}, \"1003\": {\"name\": \"Milk\", \"price\": 60, \"quantity\": 85}, \"1004\": {\"name\": \"Pasta\", \"price\": 20, \"quantity\": 84}, \"1005\": {\"name\": \"Cake\", \"price\": 100, \"quantity\": 154}, \"1006\": {\"name\": \"Drinks\", \"price\": 30, \"quantity\": 135}, \"1007\": {\"name\": \"Bournvita\", \"price\": 40, \"quantity\": 163}, \"1008\": {\"name\": \"Pastry\", \"price\": 50, \"quantity\": 128}, \"1009\": {\"name\": \"Balloon\", \"price\": 5, \"quantity\": 30}, \"1010\": {\"name\": \"Chips\", \"price\": 5, \"quantity\": 50}}'"
            ]
          },
          "metadata": {},
          "execution_count": 2
        }
      ],
      "metadata": {
        "colab": {
          "base_uri": "https://localhost:8080/",
          "height": 87
        },
        "id": "HxU4vBQp8LLU",
        "outputId": "53bb451e-685f-4f47-f78a-5a0b5e65c62c"
      }
    },
    {
      "cell_type": "markdown",
      "source": [
        "**Storing Records in json file**"
      ],
      "metadata": {
        "id": "94GGnlkP9qN7"
      }
    },
    {
      "cell_type": "code",
      "execution_count": 3,
      "source": [
        "fd = open(\"records.json\",'w')\r\n",
        "fd.write(js)\r\n",
        "fd.close()"
      ],
      "outputs": [],
      "metadata": {
        "id": "imJg42Qu9HMb"
      }
    },
    {
      "cell_type": "markdown",
      "source": [
        "**Reading inventory**"
      ],
      "metadata": {
        "id": "_FwkwS819xBs"
      }
    },
    {
      "cell_type": "code",
      "execution_count": 4,
      "source": [
        "fd = open(\"records.json\",'r')\r\n",
        "contents = fd.read()\r\n",
        "fd.close()"
      ],
      "outputs": [],
      "metadata": {
        "id": "J0-IkhUF95X6"
      }
    },
    {
      "cell_type": "code",
      "execution_count": 5,
      "source": [
        "records = json.loads(contents)\r\n",
        "records"
      ],
      "outputs": [
        {
          "output_type": "execute_result",
          "data": {
            "text/plain": [
              "{'1001': {'name': 'Maggi', 'price': 10, 'quantity': 179},\n",
              " '1002': {'name': 'Chocolate', 'price': 2, 'quantity': 62},\n",
              " '1003': {'name': 'Milk', 'price': 60, 'quantity': 85},\n",
              " '1004': {'name': 'Pasta', 'price': 20, 'quantity': 84},\n",
              " '1005': {'name': 'Cake', 'price': 100, 'quantity': 154},\n",
              " '1006': {'name': 'Drinks', 'price': 30, 'quantity': 135},\n",
              " '1007': {'name': 'Bournvita', 'price': 40, 'quantity': 163},\n",
              " '1008': {'name': 'Pastry', 'price': 50, 'quantity': 128},\n",
              " '1009': {'name': 'Balloon', 'price': 5, 'quantity': 30},\n",
              " '1010': {'name': 'Chips', 'price': 5, 'quantity': 50}}"
            ]
          },
          "metadata": {},
          "execution_count": 5
        }
      ],
      "metadata": {
        "colab": {
          "base_uri": "https://localhost:8080/"
        },
        "id": "W3kQK11E-SGf",
        "outputId": "371fd42f-5057-40ec-b570-844dc5fd6750"
      }
    },
    {
      "cell_type": "markdown",
      "source": [
        "**Function for adding new products**"
      ],
      "metadata": {
        "id": "pr54mFm1QBpa"
      }
    },
    {
      "cell_type": "code",
      "execution_count": 6,
      "source": [
        "def new_product(id, name, quantity):\r\n",
        "  id=int(id)+1\r\n",
        "  id=str(id)\r\n",
        "  records[id]={}\r\n",
        "  records[id]['name']=product\r\n",
        "  records[id]['price']=int(input(f'Enter price for {product}: '))\r\n",
        "  records[id]['quantity']=quant"
      ],
      "outputs": [],
      "metadata": {
        "id": "uMtXf02jQLs-"
      }
    },
    {
      "cell_type": "markdown",
      "source": [
        "**Purchase from customers**"
      ],
      "metadata": {
        "id": "0RlcVmFDR9fv"
      }
    },
    {
      "cell_type": "code",
      "execution_count": 7,
      "source": [
        "sale = []\r\n",
        "flags = True\r\n",
        "while flags:\r\n",
        "  product = input('Enter product to purchase: ')\r\n",
        "  product = product.capitalize()\r\n",
        "  quant = int(input(f'Enter quantity for {product}: '))\r\n",
        "  flag = True\r\n",
        "  for i in records.keys():\r\n",
        "    if records[i]['name']==product:\r\n",
        "      if records[i]['quantity']>=quant:\r\n",
        "        print(f'{product} is successfully purchased')\r\n",
        "        price= records[i]['price']*quant\r\n",
        "        sale.append([product,quant,price])\r\n",
        "        flag = True\r\n",
        "        break\r\n",
        "      else:\r\n",
        "        records[i]['quantity']+=quant\r\n",
        "        print(f'{product} is successfully purchased')\r\n",
        "        price = records[i]['price']*quant\r\n",
        "        sale.append([product][quant][price])\r\n",
        "        flag = True\r\n",
        "        break\r\n",
        "    else:\r\n",
        "      id=i\r\n",
        "      flag=False\r\n",
        "  if (flag==False):\r\n",
        "    new_product(id, product, quant)\r\n",
        "    for i in records.keys():\r\n",
        "      if records[i]['name']==product:\r\n",
        "        if records[i]['quantity']>=quant:\r\n",
        "          print(f'{product} is successfully purchased')\r\n",
        "          price= records[i]['price']*quant\r\n",
        "          sale.append([product,quant,price])\r\n",
        "          flag = True\r\n",
        "          break\r\n",
        "        else:\r\n",
        "          records[i]['quantity']+=quant\r\n",
        "          print(f'{product} is successfully purchased')\r\n",
        "          price= records[i]['price']*quant\r\n",
        "          sale.append([[product][quant][price]])\r\n",
        "          flag = True\r\n",
        "          break\r\n",
        "  \r\n",
        "  a = input('Do you want to purchase more prodcuts enter Y/N: ')\r\n",
        "  a = a.upper()\r\n",
        "  if a=='N':\r\n",
        "    flags=False\r\n",
        "  elif a=='Y':\r\n",
        "    flags=True\r\n",
        "  else:\r\n",
        "    print('Wrong input!!!')\r\n",
        "    flags=False\r\n",
        "print(sale)"
      ],
      "outputs": [
        {
          "output_type": "stream",
          "name": "stdout",
          "text": [
            "Maggi is successfully purchased\n",
            "Coca cola is successfully purchased\n",
            "Ice cream is successfully purchased\n",
            "Cake is successfully purchased\n",
            "[['Maggi', 2, 20], ['Coca cola', 2, 60], ['Ice cream', 1, 20], ['Cake', 1, 100]]\n"
          ]
        }
      ],
      "metadata": {
        "id": "0hI5t-fWBFkY",
        "colab": {
          "base_uri": "https://localhost:8080/"
        },
        "outputId": "fb3b3bf0-a25e-410d-a232-b4b0095a133f"
      }
    },
    {
      "cell_type": "markdown",
      "source": [
        "**Bill for Customer**"
      ],
      "metadata": {
        "id": "KN5PLhKtUr7A"
      }
    },
    {
      "cell_type": "code",
      "execution_count": 8,
      "source": [
        "print('*'*40)\r\n",
        "print('Inventory Management System')\r\n",
        "print('*'*40)\r\n",
        "print('Sr No. | Product | Quantity | Price')\r\n",
        "print('*'*40)\r\n",
        "total=0\r\n",
        "for i in range(len(sale)):\r\n",
        "  print(f'({sale[i][0]}, {sale[i][1]}, ₹{sale[i][2]})') \r\n",
        "  total+=sale[i][2]\r\n",
        "print('*'*40)\r\n",
        "print(f'Grand Total: ₹{total}')\r\n",
        "print('*'*40)"
      ],
      "outputs": [
        {
          "output_type": "stream",
          "name": "stdout",
          "text": [
            "****************************************\n",
            "Inventory Management System\n",
            "****************************************\n",
            "Sr No. | Product | Quantity | Price\n",
            "****************************************\n",
            "(Maggi, 2, ₹20)\n",
            "(Coca cola, 2, ₹60)\n",
            "(Ice cream, 1, ₹20)\n",
            "(Cake, 1, ₹100)\n",
            "****************************************\n",
            "Grand Total: ₹200\n",
            "****************************************\n"
          ]
        }
      ],
      "metadata": {
        "colab": {
          "base_uri": "https://localhost:8080/"
        },
        "id": "Oqf50sD1UvTQ",
        "outputId": "6c36b18a-1c61-48cd-fdab-422d5a0e92a4"
      }
    },
    {
      "cell_type": "markdown",
      "source": [
        "**Updating Database**"
      ],
      "metadata": {
        "id": "zKeKoU94X_KB"
      }
    },
    {
      "cell_type": "code",
      "execution_count": 9,
      "source": [
        "for i in range(len(sale)):\r\n",
        "  for j in records.keys():\r\n",
        "    if records[j]['name']==sale[i][0]:\r\n",
        "      records[j]['quantity']-=sale[i][1]\r\n",
        "print(records)"
      ],
      "outputs": [
        {
          "output_type": "stream",
          "name": "stdout",
          "text": [
            "{'1001': {'name': 'Maggi', 'price': 10, 'quantity': 177}, '1002': {'name': 'Chocolate', 'price': 2, 'quantity': 62}, '1003': {'name': 'Milk', 'price': 60, 'quantity': 85}, '1004': {'name': 'Pasta', 'price': 20, 'quantity': 84}, '1005': {'name': 'Cake', 'price': 100, 'quantity': 153}, '1006': {'name': 'Drinks', 'price': 30, 'quantity': 135}, '1007': {'name': 'Bournvita', 'price': 40, 'quantity': 163}, '1008': {'name': 'Pastry', 'price': 50, 'quantity': 128}, '1009': {'name': 'Balloon', 'price': 5, 'quantity': 30}, '1010': {'name': 'Chips', 'price': 5, 'quantity': 50}, '1011': {'name': 'Coca cola', 'price': 30, 'quantity': 0}, '1012': {'name': 'Ice cream', 'price': 20, 'quantity': 0}}\n"
          ]
        }
      ],
      "metadata": {
        "colab": {
          "base_uri": "https://localhost:8080/"
        },
        "id": "0mwRZWADYCcw",
        "outputId": "3b18102d-c38d-4797-af2a-94a2071ea4e2"
      }
    },
    {
      "cell_type": "markdown",
      "source": [
        "**Updating Database in JSON file**"
      ],
      "metadata": {
        "id": "sVhhfjB6ZWpU"
      }
    },
    {
      "cell_type": "code",
      "execution_count": 10,
      "source": [
        "import json\r\n",
        "js = json.dumps(records)\r\n",
        "fd = open(\"records.json\",'w')\r\n",
        "fd.write(js)\r\n",
        "fd.close()\r\n",
        "print(js)"
      ],
      "outputs": [
        {
          "output_type": "stream",
          "name": "stdout",
          "text": [
            "{\"1001\": {\"name\": \"Maggi\", \"price\": 10, \"quantity\": 177}, \"1002\": {\"name\": \"Chocolate\", \"price\": 2, \"quantity\": 62}, \"1003\": {\"name\": \"Milk\", \"price\": 60, \"quantity\": 85}, \"1004\": {\"name\": \"Pasta\", \"price\": 20, \"quantity\": 84}, \"1005\": {\"name\": \"Cake\", \"price\": 100, \"quantity\": 153}, \"1006\": {\"name\": \"Drinks\", \"price\": 30, \"quantity\": 135}, \"1007\": {\"name\": \"Bournvita\", \"price\": 40, \"quantity\": 163}, \"1008\": {\"name\": \"Pastry\", \"price\": 50, \"quantity\": 128}, \"1009\": {\"name\": \"Balloon\", \"price\": 5, \"quantity\": 30}, \"1010\": {\"name\": \"Chips\", \"price\": 5, \"quantity\": 50}, \"1011\": {\"name\": \"Coca cola\", \"price\": 30, \"quantity\": 0}, \"1012\": {\"name\": \"Ice cream\", \"price\": 20, \"quantity\": 0}}\n"
          ]
        }
      ],
      "metadata": {
        "id": "98XaVGmDZarg",
        "colab": {
          "base_uri": "https://localhost:8080/"
        },
        "outputId": "5b83de16-734d-4f63-b341-c9a2f9e358f0"
      }
    },
    {
      "cell_type": "markdown",
      "source": [
        "**Sales Database**"
      ],
      "metadata": {
        "id": "K6MRR5VTGqTk"
      }
    },
    {
      "cell_type": "code",
      "execution_count": 11,
      "source": [
        "sales = {}\r\n",
        "for i in range(len(sale)):\r\n",
        "  for j in records.keys():\r\n",
        "    if records[j]['name']==sale[i][0]:\r\n",
        "      sales[j]={}\r\n",
        "      sales[j]['name']=sale[i][0]\r\n",
        "      sales[j]['price']=sale[i][2]\r\n",
        "      sales[j]['quantity']=sale[i][1]"
      ],
      "outputs": [],
      "metadata": {
        "id": "0t3nndCNGuLO"
      }
    },
    {
      "cell_type": "code",
      "execution_count": 12,
      "source": [
        "import json\r\n",
        "js1 = json.dumps(sales)\r\n",
        "fd = open(\"sales.json\",'w')\r\n",
        "fd.write(js1)\r\n",
        "fd.close()\r\n",
        "print(js1)"
      ],
      "outputs": [
        {
          "output_type": "stream",
          "name": "stdout",
          "text": [
            "{\"1001\": {\"name\": \"Maggi\", \"price\": 20, \"quantity\": 2}, \"1011\": {\"name\": \"Coca cola\", \"price\": 60, \"quantity\": 2}, \"1012\": {\"name\": \"Ice cream\", \"price\": 20, \"quantity\": 1}, \"1005\": {\"name\": \"Cake\", \"price\": 100, \"quantity\": 1}}\n"
          ]
        }
      ],
      "metadata": {
        "colab": {
          "base_uri": "https://localhost:8080/"
        },
        "id": "G0q_tmMRHvYu",
        "outputId": "a1253415-58a5-4028-829a-85519f35b326"
      }
    }
  ]
}